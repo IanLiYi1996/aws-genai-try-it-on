{
 "cells": [
  {
   "cell_type": "code",
   "execution_count": 2,
   "metadata": {},
   "outputs": [],
   "source": [
    "# 需先安装：pip install selenium webdriver-manager\n",
    "from selenium import webdriver\n",
    "from selenium.webdriver.chrome.service import Service\n",
    "from webdriver_manager.chrome import ChromeDriverManager\n",
    "\n",
    "def dynamic_content_extraction():\n",
    "    cookie_value = 'viewer2=v2-eyJ1dWlkIjoiMjdmYjgwN2MtZDdiMy00ZTQwLTg5OGYtN2VjYmU3NDNmNmQy%0AIn0%3D%0A; hs_app=1; __reveal_ut=d38f106e-4027-48c6-5d61-88aa729c4d38; rack.session2=eyJzZXNzaW9uX2lkIjoiOTA3YWNmNzUyNWU2ZTViMTU4YmM5MGE3MGZmMjE1ZTU1Zjk4YmQzZmFjYmQ5ZjkzNDYyMzUxNjVlZTM3ODFkNSIsIl9mbGFzaCI6e30sIm51dGVsbGEiOiI2NzIwODliNjJlZTlmOTAyYjAwNjhlOGQiLCJzdSI6InN1MCIsInRva2VuIjoiMjo6ZTdlODYzNzYtZmRkOS00NWIzLWFiYzYtM2E1MzVjMjRlY2FjOjAiLCJjc3JmIjoiVk1mczVyc20wVTlwc3ZnLVRSRk9HekpMQkxLaTg5WVFtUk5aTC1LNmdqQSJ9--42cbf63d49db7524c8954488c010fc9fb6f655ee; amp_27c1db=RhA8KNWbXXrmYx0EeEtak4.MTI1ZmJjYWUwYjU2M2NjZWE5MTQ=..1ilfpd11o.1ilfpd11p.h.3m.47'  # 替换为实际获取的cookie\n",
    "\n",
    "    options = webdriver.ChromeOptions()\n",
    "    options.add_argument(f\"user-agent=Mozilla/5.0 (Windows NT 10.0; Win64; x64) AppleWebKit/537.36 (KHTML, like Gecko) Chrome/119.0.0.0 Safari/537.36\")\n",
    "    # options.add_argument(\"cookie=viewer2=v2-eyJ1dWlkIjoiMjdmYjgwN2MtZDdiMy00ZTQwLTg5OGYtN2VjYmU3NDNmNmQy%0AIn0%3D%0A; hs_app=1; __reveal_ut=d38f106e-4027-48c6-5d61-88aa729c4d38; rack.session2=eyJzZXNzaW9uX2lkIjoiOTA3YWNmNzUyNWU2ZTViMTU4YmM5MGE3MGZmMjE1ZTU1Zjk4YmQzZmFjYmQ5ZjkzNDYyMzUxNjVlZTM3ODFkNSIsIl9mbGFzaCI6e30sIm51dGVsbGEiOiI2NzIwODliNjJlZTlmOTAyYjAwNjhlOGQiLCJzdSI6InN1MCIsInRva2VuIjoiMjo6ZTdlODYzNzYtZmRkOS00NWIzLWFiYzYtM2E1MzVjMjRlY2FjOjAiLCJjc3JmIjoiVk1mczVyc20wVTlwc3ZnLVRSRk9HekpMQkxLaTg5WVFtUk5aTC1LNmdqQSJ9--42cbf63d49db7524c8954488c010fc9fb6f655ee; amp_27c1db=RhA8KNWbXXrmYx0EeEtak4.MTI1ZmJjYWUwYjU2M2NjZWE5MTQ=..1ilfpd11o.1ilfpd11p.h.3m.47\")  # 无头模式，不显示浏览器窗口<en\n",
    "    \n",
    "    driver = webdriver.Chrome(\n",
    "        service=Service(ChromeDriverManager().install()),\n",
    "        options=options\n",
    "    )\n",
    "    \n",
    "    # 添加cookie需要先访问域名\n",
    "    driver.get(\"https://aws.highspot.com/\")\n",
    "    driver.add_cookie({'name': 'session_cookie', 'value': cookie_value})\n",
    "    \n",
    "    # 正式访问目标页面\n",
    "    driver.get(\"https://aws.highspot.com/spots/60bdbd9634d6be4dbd9ce328\")\n",
    "    \n",
    "    # 使用Selenium执行XPath\n",
    "    elements = driver.find_elements('xpath', '//main//article//a')\n",
    "    \n",
    "    for elem in elements:\n",
    "        print(elem.text, elem.get_attribute('href'))\n",
    "    \n",
    "    driver.quit()\n"
   ]
  },
  {
   "cell_type": "code",
   "execution_count": 3,
   "metadata": {},
   "outputs": [
    {
     "ename": "UnableToSetCookieException",
     "evalue": "Message: unable to set cookie\n  (Session info: chrome=133.0.6943.142)\nStacktrace:\n0   chromedriver                        0x0000000104df02d4 cxxbridge1$str$ptr + 2739836\n1   chromedriver                        0x0000000104de8934 cxxbridge1$str$ptr + 2708700\n2   chromedriver                        0x0000000104949e04 cxxbridge1$string$len + 92964\n3   chromedriver                        0x0000000104955918 cxxbridge1$string$len + 140856\n4   chromedriver                        0x00000001049e1928 cxxbridge1$string$len + 714312\n5   chromedriver                        0x00000001049d1e80 cxxbridge1$string$len + 650144\n6   chromedriver                        0x0000000104985060 cxxbridge1$string$len + 335232\n7   chromedriver                        0x0000000104db8c38 cxxbridge1$str$ptr + 2512864\n8   chromedriver                        0x0000000104dbbf58 cxxbridge1$str$ptr + 2525952\n9   chromedriver                        0x0000000104d9e578 cxxbridge1$str$ptr + 2404640\n10  chromedriver                        0x0000000104dbc818 cxxbridge1$str$ptr + 2528192\n11  chromedriver                        0x0000000104d8ef2c cxxbridge1$str$ptr + 2341588\n12  chromedriver                        0x0000000104dd8a60 cxxbridge1$str$ptr + 2643464\n13  chromedriver                        0x0000000104dd8be8 cxxbridge1$str$ptr + 2643856\n14  chromedriver                        0x0000000104de85a8 cxxbridge1$str$ptr + 2707792\n15  libsystem_pthread.dylib             0x00000001855b02e4 _pthread_start + 136\n16  libsystem_pthread.dylib             0x00000001855ab0fc thread_start + 8\n",
     "output_type": "error",
     "traceback": [
      "\u001b[0;31m---------------------------------------------------------------------------\u001b[0m",
      "\u001b[0;31mUnableToSetCookieException\u001b[0m                Traceback (most recent call last)",
      "Cell \u001b[0;32mIn[3], line 1\u001b[0m\n\u001b[0;32m----> 1\u001b[0m \u001b[43mdynamic_content_extraction\u001b[49m\u001b[43m(\u001b[49m\u001b[43m)\u001b[49m\n",
      "Cell \u001b[0;32mIn[2], line 20\u001b[0m, in \u001b[0;36mdynamic_content_extraction\u001b[0;34m()\u001b[0m\n\u001b[1;32m     18\u001b[0m \u001b[38;5;66;03m# 添加cookie需要先访问域名\u001b[39;00m\n\u001b[1;32m     19\u001b[0m driver\u001b[38;5;241m.\u001b[39mget(\u001b[38;5;124m\"\u001b[39m\u001b[38;5;124mhttps://aws.highspot.com/\u001b[39m\u001b[38;5;124m\"\u001b[39m)\n\u001b[0;32m---> 20\u001b[0m \u001b[43mdriver\u001b[49m\u001b[38;5;241;43m.\u001b[39;49m\u001b[43madd_cookie\u001b[49m\u001b[43m(\u001b[49m\u001b[43m{\u001b[49m\u001b[38;5;124;43m'\u001b[39;49m\u001b[38;5;124;43mname\u001b[39;49m\u001b[38;5;124;43m'\u001b[39;49m\u001b[43m:\u001b[49m\u001b[43m \u001b[49m\u001b[38;5;124;43m'\u001b[39;49m\u001b[38;5;124;43msession_cookie\u001b[39;49m\u001b[38;5;124;43m'\u001b[39;49m\u001b[43m,\u001b[49m\u001b[43m \u001b[49m\u001b[38;5;124;43m'\u001b[39;49m\u001b[38;5;124;43mvalue\u001b[39;49m\u001b[38;5;124;43m'\u001b[39;49m\u001b[43m:\u001b[49m\u001b[43m \u001b[49m\u001b[43mcookie_value\u001b[49m\u001b[43m}\u001b[49m\u001b[43m)\u001b[49m\n\u001b[1;32m     22\u001b[0m \u001b[38;5;66;03m# 正式访问目标页面\u001b[39;00m\n\u001b[1;32m     23\u001b[0m driver\u001b[38;5;241m.\u001b[39mget(\u001b[38;5;124m\"\u001b[39m\u001b[38;5;124mhttps://aws.highspot.com/spots/60bdbd9634d6be4dbd9ce328\u001b[39m\u001b[38;5;124m\"\u001b[39m)\n",
      "File \u001b[0;32m/opt/anaconda3/envs/dev/lib/python3.10/site-packages/selenium/webdriver/remote/webdriver.py:777\u001b[0m, in \u001b[0;36mWebDriver.add_cookie\u001b[0;34m(self, cookie_dict)\u001b[0m\n\u001b[1;32m    775\u001b[0m     \u001b[38;5;28mself\u001b[39m\u001b[38;5;241m.\u001b[39mexecute(Command\u001b[38;5;241m.\u001b[39mADD_COOKIE, {\u001b[38;5;124m\"\u001b[39m\u001b[38;5;124mcookie\u001b[39m\u001b[38;5;124m\"\u001b[39m: cookie_dict})\n\u001b[1;32m    776\u001b[0m \u001b[38;5;28;01melse\u001b[39;00m:\n\u001b[0;32m--> 777\u001b[0m     \u001b[38;5;28;43mself\u001b[39;49m\u001b[38;5;241;43m.\u001b[39;49m\u001b[43mexecute\u001b[49m\u001b[43m(\u001b[49m\u001b[43mCommand\u001b[49m\u001b[38;5;241;43m.\u001b[39;49m\u001b[43mADD_COOKIE\u001b[49m\u001b[43m,\u001b[49m\u001b[43m \u001b[49m\u001b[43m{\u001b[49m\u001b[38;5;124;43m\"\u001b[39;49m\u001b[38;5;124;43mcookie\u001b[39;49m\u001b[38;5;124;43m\"\u001b[39;49m\u001b[43m:\u001b[49m\u001b[43m \u001b[49m\u001b[43mcookie_dict\u001b[49m\u001b[43m}\u001b[49m\u001b[43m)\u001b[49m\n",
      "File \u001b[0;32m/opt/anaconda3/envs/dev/lib/python3.10/site-packages/selenium/webdriver/remote/webdriver.py:429\u001b[0m, in \u001b[0;36mWebDriver.execute\u001b[0;34m(self, driver_command, params)\u001b[0m\n\u001b[1;32m    427\u001b[0m response \u001b[38;5;241m=\u001b[39m \u001b[38;5;28mself\u001b[39m\u001b[38;5;241m.\u001b[39mcommand_executor\u001b[38;5;241m.\u001b[39mexecute(driver_command, params)\n\u001b[1;32m    428\u001b[0m \u001b[38;5;28;01mif\u001b[39;00m response:\n\u001b[0;32m--> 429\u001b[0m     \u001b[38;5;28;43mself\u001b[39;49m\u001b[38;5;241;43m.\u001b[39;49m\u001b[43merror_handler\u001b[49m\u001b[38;5;241;43m.\u001b[39;49m\u001b[43mcheck_response\u001b[49m\u001b[43m(\u001b[49m\u001b[43mresponse\u001b[49m\u001b[43m)\u001b[49m\n\u001b[1;32m    430\u001b[0m     response[\u001b[38;5;124m\"\u001b[39m\u001b[38;5;124mvalue\u001b[39m\u001b[38;5;124m\"\u001b[39m] \u001b[38;5;241m=\u001b[39m \u001b[38;5;28mself\u001b[39m\u001b[38;5;241m.\u001b[39m_unwrap_value(response\u001b[38;5;241m.\u001b[39mget(\u001b[38;5;124m\"\u001b[39m\u001b[38;5;124mvalue\u001b[39m\u001b[38;5;124m\"\u001b[39m, \u001b[38;5;28;01mNone\u001b[39;00m))\n\u001b[1;32m    431\u001b[0m     \u001b[38;5;28;01mreturn\u001b[39;00m response\n",
      "File \u001b[0;32m/opt/anaconda3/envs/dev/lib/python3.10/site-packages/selenium/webdriver/remote/errorhandler.py:232\u001b[0m, in \u001b[0;36mErrorHandler.check_response\u001b[0;34m(self, response)\u001b[0m\n\u001b[1;32m    230\u001b[0m         alert_text \u001b[38;5;241m=\u001b[39m value[\u001b[38;5;124m\"\u001b[39m\u001b[38;5;124malert\u001b[39m\u001b[38;5;124m\"\u001b[39m]\u001b[38;5;241m.\u001b[39mget(\u001b[38;5;124m\"\u001b[39m\u001b[38;5;124mtext\u001b[39m\u001b[38;5;124m\"\u001b[39m)\n\u001b[1;32m    231\u001b[0m     \u001b[38;5;28;01mraise\u001b[39;00m exception_class(message, screen, stacktrace, alert_text)  \u001b[38;5;66;03m# type: ignore[call-arg]  # mypy is not smart enough here\u001b[39;00m\n\u001b[0;32m--> 232\u001b[0m \u001b[38;5;28;01mraise\u001b[39;00m exception_class(message, screen, stacktrace)\n",
      "\u001b[0;31mUnableToSetCookieException\u001b[0m: Message: unable to set cookie\n  (Session info: chrome=133.0.6943.142)\nStacktrace:\n0   chromedriver                        0x0000000104df02d4 cxxbridge1$str$ptr + 2739836\n1   chromedriver                        0x0000000104de8934 cxxbridge1$str$ptr + 2708700\n2   chromedriver                        0x0000000104949e04 cxxbridge1$string$len + 92964\n3   chromedriver                        0x0000000104955918 cxxbridge1$string$len + 140856\n4   chromedriver                        0x00000001049e1928 cxxbridge1$string$len + 714312\n5   chromedriver                        0x00000001049d1e80 cxxbridge1$string$len + 650144\n6   chromedriver                        0x0000000104985060 cxxbridge1$string$len + 335232\n7   chromedriver                        0x0000000104db8c38 cxxbridge1$str$ptr + 2512864\n8   chromedriver                        0x0000000104dbbf58 cxxbridge1$str$ptr + 2525952\n9   chromedriver                        0x0000000104d9e578 cxxbridge1$str$ptr + 2404640\n10  chromedriver                        0x0000000104dbc818 cxxbridge1$str$ptr + 2528192\n11  chromedriver                        0x0000000104d8ef2c cxxbridge1$str$ptr + 2341588\n12  chromedriver                        0x0000000104dd8a60 cxxbridge1$str$ptr + 2643464\n13  chromedriver                        0x0000000104dd8be8 cxxbridge1$str$ptr + 2643856\n14  chromedriver                        0x0000000104de85a8 cxxbridge1$str$ptr + 2707792\n15  libsystem_pthread.dylib             0x00000001855b02e4 _pthread_start + 136\n16  libsystem_pthread.dylib             0x00000001855ab0fc thread_start + 8\n"
     ]
    }
   ],
   "source": [
    "dynamic_content_extraction()"
   ]
  },
  {
   "cell_type": "code",
   "execution_count": null,
   "metadata": {},
   "outputs": [],
   "source": []
  }
 ],
 "metadata": {
  "kernelspec": {
   "display_name": "dev",
   "language": "python",
   "name": "python3"
  },
  "language_info": {
   "codemirror_mode": {
    "name": "ipython",
    "version": 3
   },
   "file_extension": ".py",
   "mimetype": "text/x-python",
   "name": "python",
   "nbconvert_exporter": "python",
   "pygments_lexer": "ipython3",
   "version": "3.10.13"
  }
 },
 "nbformat": 4,
 "nbformat_minor": 2
}
