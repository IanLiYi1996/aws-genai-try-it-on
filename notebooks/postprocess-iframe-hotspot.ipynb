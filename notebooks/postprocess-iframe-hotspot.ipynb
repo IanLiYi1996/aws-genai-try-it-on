{
 "cells": [
  {
   "cell_type": "code",
   "execution_count": 8,
   "metadata": {},
   "outputs": [],
   "source": [
    "import requests\n",
    "from bs4 import BeautifulSoup\n",
    "\n",
    "def fetch_iframe_title(url):\n",
    "    response = requests.get(url)\n",
    "    soup = BeautifulSoup(response.content, 'html.parser')\n",
    "    title = soup.select_one('html body div h2 a span')\n",
    "    return title.text if title else 'No Title Found'\n",
    "\n",
    "def process_markdown(file_path):\n",
    "    with open(file_path, 'r', encoding='utf-8') as file:\n",
    "        content = file.read()\n",
    "\n",
    "    lines = content.split('\\n')\n",
    "    new_lines = []\n",
    "    iframe_url = None\n",
    "\n",
    "    for line in lines:\n",
    "        line = line.strip()\n",
    "        if line.startswith('源地址:'):\n",
    "            iframe_url = line.split('源地址: ')[1]\n",
    "            title = fetch_iframe_title(iframe_url)\n",
    "            new_lines.append(f'### {title}')\n",
    "            continue\n",
    "        if line.startswith('*爬取时间') or line.startswith('## Iframe') or line.startswith('### Iframe') or line.startswith('#### 表格') or len(line) == 0:\n",
    "            continue\n",
    "        new_lines.append(line)\n",
    "\n",
    "    title_line = next(line for line in lines if line.startswith('# '))\n",
    "    output_file = title_line[2:].strip() + '.md'\n",
    "\n",
    "    with open(output_file, 'w', encoding='utf-8') as file:\n",
    "        file.write('\\n'.join(new_lines))\n"
   ]
  },
  {
   "cell_type": "code",
   "execution_count": null,
   "metadata": {},
   "outputs": [],
   "source": [
    "process_markdown('/Users/ianleely/Documents/Codes/aws-genai-try-it-on/iframe-result/20250307_113025_highspot.md')"
   ]
  },
  {
   "cell_type": "code",
   "execution_count": 7,
   "metadata": {},
   "outputs": [
    {
     "name": "stderr",
     "output_type": "stream",
     "text": [
      "100%|██████████| 7/7 [00:58<00:00,  8.29s/it]\n"
     ]
    }
   ],
   "source": [
    "import os\n",
    "from tqdm import tqdm\n",
    "\n",
    "def list_files_in_directory(directory_path):\n",
    "    return os.listdir(directory_path)\n",
    "\n",
    "# 示例用法\n",
    "directory_path = '/Users/ianleely/Documents/Codes/aws-genai-try-it-on/iframe-result/'\n",
    "file_names = list_files_in_directory(directory_path)\n",
    "\n",
    "for file in tqdm(file_names):\n",
    "    file_path = os.path.join(directory_path, file)\n",
    "    process_markdown(file_path)"
   ]
  },
  {
   "cell_type": "code",
   "execution_count": 3,
   "metadata": {},
   "outputs": [
    {
     "name": "stderr",
     "output_type": "stream",
     "text": [
      "100%|██████████| 9/9 [00:00<00:00, 3112.01it/s]\n"
     ]
    }
   ],
   "source": [
    "import os\n",
    "from tqdm import tqdm\n",
    "import json\n",
    "\n",
    "def list_files_in_directory(directory_path):\n",
    "    return os.listdir(directory_path)\n",
    "\n",
    "# 示例用法\n",
    "directory_path = '/Users/ianleely/Documents/Codes/aws-genai-try-it-on/iframe-result/'\n",
    "file_names = list_files_in_directory(directory_path)\n",
    "\n",
    "for file_name in tqdm(file_names):\n",
    "    if not file_name.endswith('.md'):\n",
    "        continue\n",
    "    row = file_name.replace('.md', '')\n",
    "    sample = {\n",
    "        \"metadataAttributes\": {\n",
    "            \"x-amz-bedrock-kb-source-uri\": {\n",
    "                \"value\": {\n",
    "                    \"type\": \"STRING\",\n",
    "                    \"stringValue\": f\"https://aws.highspot.com/{row}\"\n",
    "                },\n",
    "                \"includeForEmbedding\": True\n",
    "            },\n",
    "            \"updated_date\": {\n",
    "                \"value\": {\n",
    "                    \"type\": \"NUMBER\",\n",
    "                    \"numberValue\": 20250307\n",
    "                },\n",
    "                \"includeForEmbedding\": True\n",
    "            },\n",
    "            \"create_time\": {\n",
    "                \"value\": {\n",
    "                    \"type\": \"NUMBER\",\n",
    "                    \"numberValue\": 20241030\n",
    "                },\n",
    "                \"includeForEmbedding\": True\n",
    "            },\n",
    "            \"is_partner_solution\": {\n",
    "                \"value\": {\n",
    "                    \"type\": \"BOOLEAN\",\n",
    "                    \"booleanValue\": True\n",
    "                },\n",
    "                \"includeForEmbedding\": True\n",
    "            }\n",
    "        }\n",
    "    }\n",
    "    json.dump(sample, open(directory_path+row+'.metadata.json', 'w'))"
   ]
  },
  {
   "cell_type": "code",
   "execution_count": null,
   "metadata": {},
   "outputs": [],
   "source": []
  }
 ],
 "metadata": {
  "kernelspec": {
   "display_name": "dev",
   "language": "python",
   "name": "python3"
  },
  "language_info": {
   "codemirror_mode": {
    "name": "ipython",
    "version": 3
   },
   "file_extension": ".py",
   "mimetype": "text/x-python",
   "name": "python",
   "nbconvert_exporter": "python",
   "pygments_lexer": "ipython3",
   "version": "3.10.13"
  }
 },
 "nbformat": 4,
 "nbformat_minor": 2
}
