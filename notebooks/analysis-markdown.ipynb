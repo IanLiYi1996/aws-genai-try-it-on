{
 "cells": [
  {
   "cell_type": "code",
   "execution_count": 2,
   "metadata": {},
   "outputs": [
    {
     "name": "stdout",
     "output_type": "stream",
     "text": [
      "Title: 2024-[Strategic] - DMS\n",
      "Link: https://aws.highspot.com/items/660029a5d545f02ded7055a7?lfrm=shp.684\n"
     ]
    }
   ],
   "source": [
    "import re\n",
    "\n",
    "def extract_title_and_link(content):\n",
    "    # Regular expression to extract the title and link\n",
    "    pattern = r'\\[\\s*(.*?)\\s*\\]\\(\\s*(.*?)\\s*\\)'\n",
    "\n",
    "    # Search for the pattern in the content\n",
    "    match = re.search(pattern, content)\n",
    "\n",
    "    if match:\n",
    "        title = match.group(1)\n",
    "        link = match.group(2)\n",
    "        return title, link\n",
    "    else:\n",
    "        return None, None\n",
    "\n",
    "# Sample line from the markdown content\n",
    "content = \"1364. [2024-[Strategic] - DMS](https://aws.highspot.com/items/660029a5d545f02ded7055a7?lfrm=shp.684)\"\n",
    "\n",
    "# Extract title and link\n",
    "title, link = extract_title_and_link(content)\n",
    "print(f\"Title: {title}\")\n",
    "print(f\"Link: {link}\")"
   ]
  },
  {
   "cell_type": "code",
   "execution_count": 3,
   "metadata": {},
   "outputs": [
    {
     "name": "stdout",
     "output_type": "stream",
     "text": [
      "1757 ['Medical Insights Hub[v1.5.1] FCD - 中文', '金融 - GCR Financial Services Homepage', '下一代智能搜索和知识库解决方案指南 | 智能知识库-制造业解决方案', 'GPU - GCR GenAI Hub', '零售和快消 - RCH Solution List']\n"
     ]
    }
   ],
   "source": [
    "import re\n",
    "\n",
    "def extract_titles(file_path):\n",
    "    with open(file_path, 'r', encoding='utf-8') as file:\n",
    "        content = file.read()\n",
    "    \n",
    "    # Use regex to find all titles starting with ###\n",
    "    titles = re.findall(r'### (.+)', content)\n",
    "    return titles\n",
    "\n",
    "file_path = '/Users/ianleely/Documents/Codes/aws-genai-try-it-on/output/title.md'\n",
    "titles = extract_titles(file_path)\n",
    "print(len(titles), titles[:5])"
   ]
  },
  {
   "cell_type": "code",
   "execution_count": 8,
   "metadata": {},
   "outputs": [],
   "source": [
    "import json\n",
    "\n",
    "def process_file(file_path, title_list):\n",
    "    with open(file_path, 'r', encoding='utf-8') as file:\n",
    "        lines = file.readlines()\n",
    "\n",
    "    documents = []\n",
    "    current_doc = None\n",
    "\n",
    "    for line in lines:\n",
    "        if not line.strip():\n",
    "            continue\n",
    "\n",
    "        # parts = line.split(']')\n",
    "        # name = parts[0].split('[')[1]\n",
    "        # url = parts[1].split('(')[1].split(')')[0]\n",
    "        name, url = extract_title_and_link(line)\n",
    "\n",
    "        if name in title_list:\n",
    "            if current_doc:\n",
    "                documents.append(current_doc)\n",
    "            current_doc = {\n",
    "                \"title\": name,\n",
    "                \"link\": url,\n",
    "                \"types\": '',\n",
    "                \"materials\": []\n",
    "            }\n",
    "        elif current_doc and url == current_doc[\"link\"]:\n",
    "            current_doc[\"types\"] = name\n",
    "        elif current_doc:\n",
    "            current_doc[\"materials\"].append({\"name\": name, \"url\": url})\n",
    "\n",
    "    if current_doc:\n",
    "        documents.append(current_doc)\n",
    "\n",
    "    return documents"
   ]
  },
  {
   "cell_type": "code",
   "execution_count": 11,
   "metadata": {},
   "outputs": [],
   "source": [
    "import json\n",
    "\n",
    "# Example usage\n",
    "title_list = titles\n",
    "file_path = '/Users/ianleely/Documents/Codes/aws-genai-try-it-on/output/20250305_180730_highspot_interactive.md'\n",
    "result = process_file(file_path, title_list)\n",
    "# Save result to a jsonl file\n",
    "output_file_path = '/Users/ianleely/Documents/Codes/aws-genai-try-it-on/output/result.jsonl'\n",
    "with open(output_file_path, 'w', encoding='utf-8') as f:\n",
    "    for entry in result:\n",
    "        f.write(json.dumps(entry, ensure_ascii=False) + '\\n')"
   ]
  },
  {
   "cell_type": "code",
   "execution_count": null,
   "metadata": {},
   "outputs": [],
   "source": []
  }
 ],
 "metadata": {
  "kernelspec": {
   "display_name": "dev",
   "language": "python",
   "name": "python3"
  },
  "language_info": {
   "codemirror_mode": {
    "name": "ipython",
    "version": 3
   },
   "file_extension": ".py",
   "mimetype": "text/x-python",
   "name": "python",
   "nbconvert_exporter": "python",
   "pygments_lexer": "ipython3",
   "version": "3.10.13"
  }
 },
 "nbformat": 4,
 "nbformat_minor": 2
}
